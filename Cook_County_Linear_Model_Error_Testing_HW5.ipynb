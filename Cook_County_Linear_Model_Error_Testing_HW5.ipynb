{
 "cells": [
  {
   "cell_type": "code",
   "execution_count": 1,
   "metadata": {},
   "outputs": [],
   "source": [
    "import numpy as np\n",
    "\n",
    "import pandas as pd\n",
    "from pandas.api.types import CategoricalDtype\n",
    "\n",
    "%matplotlib inline\n",
    "import matplotlib.pyplot as plt\n",
    "import seaborn as sns\n",
    "\n",
    "# Plot settings\n",
    "plt.rcParams['figure.figsize'] = (12, 9)\n",
    "plt.rcParams['font.size'] = 12"
   ]
  },
  {
   "cell_type": "code",
   "execution_count": 2,
   "metadata": {},
   "outputs": [],
   "source": [
    "chicago_housing = pd.read_csv('chicagohousingdata.csv')"
   ]
  },
  {
   "cell_type": "code",
   "execution_count": 3,
   "metadata": {},
   "outputs": [
    {
     "data": {
      "text/html": [
       "<div>\n",
       "<style scoped>\n",
       "    .dataframe tbody tr th:only-of-type {\n",
       "        vertical-align: middle;\n",
       "    }\n",
       "\n",
       "    .dataframe tbody tr th {\n",
       "        vertical-align: top;\n",
       "    }\n",
       "\n",
       "    .dataframe thead th {\n",
       "        text-align: right;\n",
       "    }\n",
       "</style>\n",
       "<table border=\"1\" class=\"dataframe\">\n",
       "  <thead>\n",
       "    <tr style=\"text-align: right;\">\n",
       "      <th></th>\n",
       "      <th>PIN</th>\n",
       "      <th>Property Class</th>\n",
       "      <th>Tax Year</th>\n",
       "      <th>Neighborhood Code</th>\n",
       "      <th>Land Square Feet</th>\n",
       "      <th>Town Code</th>\n",
       "      <th>Type of Residence</th>\n",
       "      <th>Apartments</th>\n",
       "      <th>Wall Material</th>\n",
       "      <th>Roof Material</th>\n",
       "      <th>...</th>\n",
       "      <th>Property Address</th>\n",
       "      <th>Modeling Group</th>\n",
       "      <th>Full Baths</th>\n",
       "      <th>Age</th>\n",
       "      <th>Use</th>\n",
       "      <th>Number of Units</th>\n",
       "      <th>Percent Ownership</th>\n",
       "      <th>Condo Class Factor</th>\n",
       "      <th>Multi-Family Indicator</th>\n",
       "      <th>Large Lot</th>\n",
       "    </tr>\n",
       "  </thead>\n",
       "  <tbody>\n",
       "    <tr>\n",
       "      <th>0</th>\n",
       "      <td>1122120360000</td>\n",
       "      <td>203</td>\n",
       "      <td>2018</td>\n",
       "      <td>22</td>\n",
       "      <td>6309</td>\n",
       "      <td>10</td>\n",
       "      <td>1.0</td>\n",
       "      <td>0.0</td>\n",
       "      <td>1.0</td>\n",
       "      <td>4.0</td>\n",
       "      <td>...</td>\n",
       "      <td>506  PARK BARRINGTON WAY BARRINGTON</td>\n",
       "      <td>SF</td>\n",
       "      <td>2</td>\n",
       "      <td>25</td>\n",
       "      <td>1</td>\n",
       "      <td>1</td>\n",
       "      <td>1.0</td>\n",
       "      <td>NaN</td>\n",
       "      <td>NaN</td>\n",
       "      <td>0</td>\n",
       "    </tr>\n",
       "    <tr>\n",
       "      <th>1</th>\n",
       "      <td>1122120370000</td>\n",
       "      <td>203</td>\n",
       "      <td>2018</td>\n",
       "      <td>22</td>\n",
       "      <td>6851</td>\n",
       "      <td>10</td>\n",
       "      <td>1.0</td>\n",
       "      <td>0.0</td>\n",
       "      <td>1.0</td>\n",
       "      <td>4.0</td>\n",
       "      <td>...</td>\n",
       "      <td>504  PARK BARRINGTON WAY BARRINGTON</td>\n",
       "      <td>SF</td>\n",
       "      <td>2</td>\n",
       "      <td>25</td>\n",
       "      <td>1</td>\n",
       "      <td>1</td>\n",
       "      <td>1.0</td>\n",
       "      <td>NaN</td>\n",
       "      <td>NaN</td>\n",
       "      <td>0</td>\n",
       "    </tr>\n",
       "    <tr>\n",
       "      <th>2</th>\n",
       "      <td>1123030440000</td>\n",
       "      <td>295</td>\n",
       "      <td>2018</td>\n",
       "      <td>31</td>\n",
       "      <td>3678</td>\n",
       "      <td>10</td>\n",
       "      <td>2.0</td>\n",
       "      <td>0.0</td>\n",
       "      <td>3.0</td>\n",
       "      <td>1.0</td>\n",
       "      <td>...</td>\n",
       "      <td>506  STONE CANYON CIR INVERNESS</td>\n",
       "      <td>SF</td>\n",
       "      <td>3</td>\n",
       "      <td>16</td>\n",
       "      <td>1</td>\n",
       "      <td>1</td>\n",
       "      <td>1.0</td>\n",
       "      <td>NaN</td>\n",
       "      <td>NaN</td>\n",
       "      <td>0</td>\n",
       "    </tr>\n",
       "    <tr>\n",
       "      <th>3</th>\n",
       "      <td>1123030450000</td>\n",
       "      <td>295</td>\n",
       "      <td>2018</td>\n",
       "      <td>31</td>\n",
       "      <td>2919</td>\n",
       "      <td>10</td>\n",
       "      <td>2.0</td>\n",
       "      <td>0.0</td>\n",
       "      <td>3.0</td>\n",
       "      <td>1.0</td>\n",
       "      <td>...</td>\n",
       "      <td>504  STONE CANYON CIR INVERNESS</td>\n",
       "      <td>SF</td>\n",
       "      <td>2</td>\n",
       "      <td>16</td>\n",
       "      <td>1</td>\n",
       "      <td>1</td>\n",
       "      <td>1.0</td>\n",
       "      <td>NaN</td>\n",
       "      <td>NaN</td>\n",
       "      <td>0</td>\n",
       "    </tr>\n",
       "    <tr>\n",
       "      <th>4</th>\n",
       "      <td>1123030460000</td>\n",
       "      <td>295</td>\n",
       "      <td>2018</td>\n",
       "      <td>31</td>\n",
       "      <td>2925</td>\n",
       "      <td>10</td>\n",
       "      <td>2.0</td>\n",
       "      <td>0.0</td>\n",
       "      <td>3.0</td>\n",
       "      <td>1.0</td>\n",
       "      <td>...</td>\n",
       "      <td>502  STONE CANYON CIR INVERNESS</td>\n",
       "      <td>SF</td>\n",
       "      <td>2</td>\n",
       "      <td>16</td>\n",
       "      <td>1</td>\n",
       "      <td>1</td>\n",
       "      <td>1.0</td>\n",
       "      <td>NaN</td>\n",
       "      <td>NaN</td>\n",
       "      <td>0</td>\n",
       "    </tr>\n",
       "  </tbody>\n",
       "</table>\n",
       "<p>5 rows × 60 columns</p>\n",
       "</div>"
      ],
      "text/plain": [
       "             PIN  Property Class  Tax Year  Neighborhood Code  \\\n",
       "0  1122120360000             203      2018                 22   \n",
       "1  1122120370000             203      2018                 22   \n",
       "2  1123030440000             295      2018                 31   \n",
       "3  1123030450000             295      2018                 31   \n",
       "4  1123030460000             295      2018                 31   \n",
       "\n",
       "   Land Square Feet  Town Code  Type of Residence  Apartments  Wall Material  \\\n",
       "0              6309         10                1.0         0.0            1.0   \n",
       "1              6851         10                1.0         0.0            1.0   \n",
       "2              3678         10                2.0         0.0            3.0   \n",
       "3              2919         10                2.0         0.0            3.0   \n",
       "4              2925         10                2.0         0.0            3.0   \n",
       "\n",
       "   Roof Material  ...                     Property Address  Modeling Group  \\\n",
       "0            4.0  ...  506  PARK BARRINGTON WAY BARRINGTON              SF   \n",
       "1            4.0  ...  504  PARK BARRINGTON WAY BARRINGTON              SF   \n",
       "2            1.0  ...      506  STONE CANYON CIR INVERNESS              SF   \n",
       "3            1.0  ...      504  STONE CANYON CIR INVERNESS              SF   \n",
       "4            1.0  ...      502  STONE CANYON CIR INVERNESS              SF   \n",
       "\n",
       "   Full Baths  Age  Use  Number of Units  Percent Ownership  \\\n",
       "0           2   25    1                1                1.0   \n",
       "1           2   25    1                1                1.0   \n",
       "2           3   16    1                1                1.0   \n",
       "3           2   16    1                1                1.0   \n",
       "4           2   16    1                1                1.0   \n",
       "\n",
       "   Condo Class Factor  Multi-Family Indicator  Large Lot  \n",
       "0                 NaN                     NaN          0  \n",
       "1                 NaN                     NaN          0  \n",
       "2                 NaN                     NaN          0  \n",
       "3                 NaN                     NaN          0  \n",
       "4                 NaN                     NaN          0  \n",
       "\n",
       "[5 rows x 60 columns]"
      ]
     },
     "execution_count": 3,
     "metadata": {},
     "output_type": "execute_result"
    }
   ],
   "source": [
    "chicago_housing.head()"
   ]
  },
  {
   "cell_type": "code",
   "execution_count": 4,
   "metadata": {},
   "outputs": [
    {
     "data": {
      "text/plain": [
       "0    6309\n",
       "1    6851\n",
       "2    3678\n",
       "3    2919\n",
       "4    2925\n",
       "Name: Land Square Feet, dtype: int64"
      ]
     },
     "execution_count": 4,
     "metadata": {},
     "output_type": "execute_result"
    }
   ],
   "source": [
    "chicago_housing['Land Square Feet'].head()"
   ]
  },
  {
   "cell_type": "code",
   "execution_count": 5,
   "metadata": {
    "scrolled": true
   },
   "outputs": [],
   "source": [
    "len_data = len(chicago_housing)"
   ]
  },
  {
   "cell_type": "code",
   "execution_count": null,
   "metadata": {},
   "outputs": [],
   "source": []
  },
  {
   "cell_type": "code",
   "execution_count": null,
   "metadata": {},
   "outputs": [],
   "source": []
  },
  {
   "cell_type": "code",
   "execution_count": 6,
   "metadata": {
    "scrolled": true
   },
   "outputs": [
    {
     "data": {
      "text/plain": [
       "array(['PIN', 'Property Class', 'Tax Year', 'Neighborhood Code',\n",
       "       'Land Square Feet', 'Town Code', 'Type of Residence', 'Apartments',\n",
       "       'Wall Material', 'Roof Material', 'Rooms', 'Bedrooms', 'Basement',\n",
       "       'Basement Finish', 'Central Heating', 'Other Heating',\n",
       "       'Central Air', 'Fireplaces', 'Attic Type', 'Attic Finish',\n",
       "       'Half Baths', 'Design Plan', 'Cathedral Ceiling',\n",
       "       'Construction Quality', 'Renovation', 'Site Desireability',\n",
       "       'Garage 1 Size', 'Garage 1 Material', 'Garage 1 Attachment',\n",
       "       'Garage 1 Area', 'Garage 2 Size', 'Garage 2 Material',\n",
       "       'Garage 2 Attachment', 'Garage 2 Area', 'Porch',\n",
       "       'Other Improvements', 'Building Square Feet', 'Repair Condition',\n",
       "       'Multi Code', 'Number of Commercial Units',\n",
       "       'Prior Tax Year Market Value Estimate (Land)',\n",
       "       'Prior Tax Year Market Value Estimate (Building)', 'Sale Date',\n",
       "       'Deed No.', 'Sale Price', 'Longitude', 'Latitude', 'Census Tract',\n",
       "       'Total Building Square Feet', 'Multi Property Indicator',\n",
       "       'Property Address', 'Modeling Group', 'Full Baths', 'Age', 'Use',\n",
       "       'Number of Units', 'Percent Ownership', 'Condo Class Factor',\n",
       "       'Multi-Family Indicator', 'Large Lot'], dtype=object)"
      ]
     },
     "execution_count": 6,
     "metadata": {},
     "output_type": "execute_result"
    }
   ],
   "source": [
    "chicago_housing.columns.values"
   ]
  },
  {
   "cell_type": "code",
   "execution_count": 7,
   "metadata": {},
   "outputs": [
    {
     "data": {
      "text/plain": [
       "0            6309\n",
       "1            6851\n",
       "2            3678\n",
       "3            2919\n",
       "4            2925\n",
       "5            3666\n",
       "6            3568\n",
       "7            2812\n",
       "8            2841\n",
       "9            3619\n",
       "10           3674\n",
       "11           3689\n",
       "12           3573\n",
       "13           2836\n",
       "14           3041\n",
       "15           3556\n",
       "16         593392\n",
       "17           3705\n",
       "18         593392\n",
       "19           3567\n",
       "20           3699\n",
       "21         593392\n",
       "22           3642\n",
       "23           3620\n",
       "24           2844\n",
       "25        1758562\n",
       "26           2842\n",
       "27           3614\n",
       "28           3685\n",
       "29           3690\n",
       "           ...   \n",
       "355310       3875\n",
       "355311       3875\n",
       "355312       3875\n",
       "355313       4000\n",
       "355314       4375\n",
       "355315       3750\n",
       "355316       3750\n",
       "355317       3750\n",
       "355318       4556\n",
       "355319       3750\n",
       "355320       3750\n",
       "355321       3750\n",
       "355322       3750\n",
       "355323       3750\n",
       "355324       3750\n",
       "355325       3750\n",
       "355326       3750\n",
       "355327       3750\n",
       "355328       2700\n",
       "355329       2700\n",
       "355330       2700\n",
       "355331       2700\n",
       "355332       2700\n",
       "355333       2700\n",
       "355334       2700\n",
       "355335       2700\n",
       "355336       2700\n",
       "355337       4585\n",
       "355338       3240\n",
       "355339       5403\n",
       "Name: Land Square Feet, Length: 355340, dtype: int64"
      ]
     },
     "execution_count": 7,
     "metadata": {},
     "output_type": "execute_result"
    }
   ],
   "source": [
    "chicago_housing['Land Square Feet']"
   ]
  },
  {
   "cell_type": "code",
   "execution_count": 8,
   "metadata": {},
   "outputs": [
    {
     "data": {
      "text/plain": [
       "0         1.0\n",
       "1         1.0\n",
       "2         1.0\n",
       "3         1.0\n",
       "4         1.0\n",
       "5         1.0\n",
       "6         1.0\n",
       "7         1.0\n",
       "8         1.0\n",
       "9         1.0\n",
       "10        1.0\n",
       "11        1.0\n",
       "12        1.0\n",
       "13        1.0\n",
       "14        1.0\n",
       "15        1.0\n",
       "16        NaN\n",
       "17        1.0\n",
       "18        NaN\n",
       "19        1.0\n",
       "20        1.0\n",
       "21        NaN\n",
       "22        1.0\n",
       "23        1.0\n",
       "24        1.0\n",
       "25        NaN\n",
       "26        1.0\n",
       "27        1.0\n",
       "28        1.0\n",
       "29        1.0\n",
       "         ... \n",
       "355310    0.0\n",
       "355311    0.0\n",
       "355312    0.0\n",
       "355313    0.0\n",
       "355314    0.0\n",
       "355315    0.0\n",
       "355316    0.0\n",
       "355317    0.0\n",
       "355318    0.0\n",
       "355319    0.0\n",
       "355320    0.0\n",
       "355321    1.0\n",
       "355322    0.0\n",
       "355323    0.0\n",
       "355324    0.0\n",
       "355325    0.0\n",
       "355326    2.0\n",
       "355327    0.0\n",
       "355328    0.0\n",
       "355329    0.0\n",
       "355330    0.0\n",
       "355331    0.0\n",
       "355332    1.0\n",
       "355333    0.0\n",
       "355334    0.0\n",
       "355335    0.0\n",
       "355336    0.0\n",
       "355337    0.0\n",
       "355338    0.0\n",
       "355339    1.0\n",
       "Name: Fireplaces, Length: 355340, dtype: float64"
      ]
     },
     "execution_count": 8,
     "metadata": {},
     "output_type": "execute_result"
    }
   ],
   "source": [
    "chicago_housing['Fireplaces']"
   ]
  },
  {
   "cell_type": "code",
   "execution_count": 9,
   "metadata": {},
   "outputs": [],
   "source": [
    "chicago_housing = chicago_housing.dropna(subset=['Sale Price', \n",
    "                                                 'Land Square Feet', \n",
    "                                                 'Rooms', \n",
    "                                                 'Prior Tax Year Market Value Estimate (Land)', \n",
    "                                                 'Prior Tax Year Market Value Estimate (Building)',\n",
    "                                                 'Full Baths',\n",
    "                                                 'Building Square Feet'])\n",
    "\n",
    "chicago_housing = chicago_housing[chicago_housing['Sale Price'] != 1]\n",
    "chicago_housing = chicago_housing[chicago_housing['Prior Tax Year Market Value Estimate (Building)'] != 0]"
   ]
  },
  {
   "cell_type": "code",
   "execution_count": 10,
   "metadata": {},
   "outputs": [
    {
     "data": {
      "text/plain": [
       "118970     29\n",
       "138930      7\n",
       "196520      7\n",
       "98270       6\n",
       "208710      6\n",
       "157140      6\n",
       "225390      6\n",
       "231250      6\n",
       "189050      6\n",
       "203390      5\n",
       "146300      5\n",
       "231030      5\n",
       "152640      5\n",
       "156320      5\n",
       "187700      5\n",
       "172870      5\n",
       "248080      5\n",
       "125360      5\n",
       "154550      5\n",
       "144690      5\n",
       "177070      5\n",
       "254270      5\n",
       "174490      5\n",
       "171990      5\n",
       "140700      5\n",
       "142480      5\n",
       "221200      5\n",
       "131470      5\n",
       "209250      5\n",
       "159920      5\n",
       "           ..\n",
       "376050      1\n",
       "200520      1\n",
       "278350      1\n",
       "221010      1\n",
       "285260      1\n",
       "287630      1\n",
       "81430       1\n",
       "757640      1\n",
       "477090      1\n",
       "458630      1\n",
       "211930      1\n",
       "323460      1\n",
       "149690      1\n",
       "216960      1\n",
       "302970      1\n",
       "208250      1\n",
       "225140      1\n",
       "928090      1\n",
       "1728370     1\n",
       "754830      1\n",
       "147310      1\n",
       "1650540     1\n",
       "204650      1\n",
       "561000      1\n",
       "261990      1\n",
       "155490      1\n",
       "376670      1\n",
       "434010      1\n",
       "135000      1\n",
       "161010      1\n",
       "Name: Prior Tax Year Market Value Estimate (Building), Length: 17154, dtype: int64"
      ]
     },
     "execution_count": 10,
     "metadata": {},
     "output_type": "execute_result"
    }
   ],
   "source": [
    "chicago_housing['Prior Tax Year Market Value Estimate (Building)'].value_counts()"
   ]
  },
  {
   "cell_type": "code",
   "execution_count": 11,
   "metadata": {},
   "outputs": [
    {
     "data": {
      "text/plain": [
       "39    13\n",
       "77    10\n",
       "92    10\n",
       "93    10\n",
       "99     9\n",
       "Name: Age, dtype: int64"
      ]
     },
     "execution_count": 11,
     "metadata": {},
     "output_type": "execute_result"
    }
   ],
   "source": [
    "chicago_housing['Age'].head()"
   ]
  },
  {
   "cell_type": "code",
   "execution_count": null,
   "metadata": {},
   "outputs": [],
   "source": []
  },
  {
   "cell_type": "code",
   "execution_count": 12,
   "metadata": {},
   "outputs": [],
   "source": [
    "full_data = chicago_housing"
   ]
  },
  {
   "cell_type": "code",
   "execution_count": 13,
   "metadata": {},
   "outputs": [],
   "source": [
    "full_data_len = len(chicago_housing)"
   ]
  },
  {
   "cell_type": "code",
   "execution_count": 14,
   "metadata": {},
   "outputs": [],
   "source": [
    "# This makes the train-test split in this section reproducible across different runs \n",
    "# of the notebook. You do not need this line to run train_test_split in general\n",
    "np.random.seed(1338)\n",
    "shuffled_indices = np.random.permutation(full_data_len)\n",
    "\n",
    "# Set train_indices to the first 80% of shuffled_indices and and test_indices to the rest.\n",
    "train_indices = shuffled_indices[:int(full_data_len * 0.8)] # SOLUTION\n",
    "test_indices = shuffled_indices[int(full_data_len * 0.2):] # SOLUTION\n",
    "\n",
    "# Create train and test` by indexing into `full_data` using \n",
    "# `train_indices` and `test_indices`\n",
    "train_data = full_data.iloc[train_indices] # SOLUTION\n",
    "test_data = full_data.iloc[test_indices] # SOLUTION"
   ]
  },
  {
   "cell_type": "markdown",
   "metadata": {},
   "source": [
    "Now that we have a test set, we will split the training and testing data in two parts again for our own analysis."
   ]
  },
  {
   "cell_type": "code",
   "execution_count": 15,
   "metadata": {},
   "outputs": [],
   "source": [
    "train_data_len = len(train_data)"
   ]
  },
  {
   "cell_type": "code",
   "execution_count": 16,
   "metadata": {
    "scrolled": true
   },
   "outputs": [],
   "source": [
    "\n",
    "\n",
    "# This makes the train-test split in this section reproducible across different runs \n",
    "# of the notebook. You do not need this line to run train_test_split in general\n",
    "np.random.seed(1338)\n",
    "shuffled_indices = np.random.permutation(train_data_len)\n",
    "\n",
    "# Set train_indices to the first 80% of shuffled_indices and and test_indices to the rest.\n",
    "train_indices_train = shuffled_indices[:int(train_data_len * 0.8)] # SOLUTION\n",
    "test_indices_train = shuffled_indices[int(train_data_len * 0.2):] # SOLUTION\n",
    "\n",
    "# Create train and test` by indexing into `full_data` using \n",
    "# `train_indices` and `test_indices`\n",
    "train = train_data.iloc[train_indices_train] # SOLUTION\n",
    "test = train_data.iloc[test_indices_train] # SOLUTION\n"
   ]
  },
  {
   "cell_type": "code",
   "execution_count": 17,
   "metadata": {},
   "outputs": [
    {
     "data": {
      "text/plain": [
       "32692     10660\n",
       "260891     4962\n",
       "139312     1744\n",
       "257179     7044\n",
       "273399     9331\n",
       "Name: Land Square Feet, dtype: int64"
      ]
     },
     "execution_count": 17,
     "metadata": {},
     "output_type": "execute_result"
    }
   ],
   "source": [
    "train['Land Square Feet'].head()"
   ]
  },
  {
   "cell_type": "code",
   "execution_count": 18,
   "metadata": {},
   "outputs": [
    {
     "data": {
      "text/plain": [
       "32692     234000.0\n",
       "260891    265000.0\n",
       "139312    205000.0\n",
       "257179    305000.0\n",
       "273399    280000.0\n",
       "Name: Sale Price, dtype: float64"
      ]
     },
     "execution_count": 18,
     "metadata": {},
     "output_type": "execute_result"
    }
   ],
   "source": [
    "train['Sale Price'].head()"
   ]
  },
  {
   "cell_type": "code",
   "execution_count": 19,
   "metadata": {},
   "outputs": [],
   "source": [
    "def select_columns(data, *columns):\n",
    "    \"\"\"Select only columns passed as arguments.\"\"\"\n",
    "    return data.loc[:, columns]\n",
    "\n",
    "def process_data_gm(data):\n",
    "    \"\"\"Process the data for a guided model.\"\"\"\n",
    "    \n",
    "    # Transform Data, Select Features\n",
    "    data = select_columns(data, \n",
    "                          'Sale Price', \n",
    "                          'Land Square Feet',\n",
    "                          'Prior Tax Year Market Value Estimate (Land)',\n",
    "                          'Prior Tax Year Market Value Estimate (Building)',\n",
    "                          'Full Baths',\n",
    "                          'Building Square Feet',\n",
    "                          'Rooms',\n",
    "                          'Fireplaces',\n",
    "                          \n",
    "                          \n",
    "                         )\n",
    "    \n",
    "    # Return predictors and response variables separately\n",
    "    X = data.drop(['Sale Price'], axis = 1)\n",
    "    y = data.loc[:, 'Sale Price']\n",
    "    \n",
    "    return X, y"
   ]
  },
  {
   "cell_type": "code",
   "execution_count": 20,
   "metadata": {
    "scrolled": false
   },
   "outputs": [
    {
     "data": {
      "image/png": "[encoded data removed]",
      "text/plain": [
       "<Figure size 432x288 with 1 Axes>"
      ]
     },
     "metadata": {
      "needs_background": "light"
     },
     "output_type": "display_data"
    }
   ],
   "source": [
    "sns.regplot(data=train, x='Building Square Feet', y='Sale Price');"
   ]
  },
  {
   "cell_type": "code",
   "execution_count": null,
   "metadata": {},
   "outputs": [],
   "source": []
  },
  {
   "cell_type": "code",
   "execution_count": 21,
   "metadata": {},
   "outputs": [
    {
     "data": {
      "image/png": "[encoded data removed]",
      "text/plain": [
       "<Figure size 432x288 with 1 Axes>"
      ]
     },
     "metadata": {
      "needs_background": "light"
     },
     "output_type": "display_data"
    }
   ],
   "source": [
    "sns.regplot(data=train, x='Prior Tax Year Market Value Estimate (Land)', y='Sale Price');"
   ]
  },
  {
   "cell_type": "code",
   "execution_count": 22,
   "metadata": {},
   "outputs": [
    {
     "data": {
      "image/png": "[encoded data removed]",
      "text/plain": [
       "<Figure size 432x288 with 1 Axes>"
      ]
     },
     "metadata": {
      "needs_background": "light"
     },
     "output_type": "display_data"
    }
   ],
   "source": [
    "sns.regplot(data=train, x='Prior Tax Year Market Value Estimate (Building)', y='Sale Price');"
   ]
  },
  {
   "cell_type": "code",
   "execution_count": 23,
   "metadata": {},
   "outputs": [
    {
     "data": {
      "image/png": "[encoded data removed]",
      "text/plain": [
       "<Figure size 432x288 with 1 Axes>"
      ]
     },
     "metadata": {
      "needs_background": "light"
     },
     "output_type": "display_data"
    }
   ],
   "source": [
    "sns.violinplot(data=train, x='Wall Material', y='Sale Price');"
   ]
  },
  {
   "cell_type": "code",
   "execution_count": 24,
   "metadata": {},
   "outputs": [
    {
     "data": {
      "image/png": "[encoded data removed]",
      "text/plain": [
       "<Figure size 432x288 with 1 Axes>"
      ]
     },
     "metadata": {
      "needs_background": "light"
     },
     "output_type": "display_data"
    }
   ],
   "source": [
    "sns.violinplot(data=train, x='Fireplaces', y='Sale Price');"
   ]
  },
  {
   "cell_type": "code",
   "execution_count": 25,
   "metadata": {
    "scrolled": true
   },
   "outputs": [
    {
     "data": {
      "image/png": "[encoded data removed]",
      "text/plain": [
       "<Figure size 432x288 with 1 Axes>"
      ]
     },
     "metadata": {
      "needs_background": "light"
     },
     "output_type": "display_data"
    }
   ],
   "source": [
    "sns.violinplot(data=train, x='Garage 1 Size', y='Sale Price');"
   ]
  },
  {
   "cell_type": "code",
   "execution_count": 26,
   "metadata": {
    "scrolled": false
   },
   "outputs": [
    {
     "data": {
      "image/png": "[encoded data removed]",
      "text/plain": [
       "<Figure size 432x288 with 1 Axes>"
      ]
     },
     "metadata": {
      "needs_background": "light"
     },
     "output_type": "display_data"
    }
   ],
   "source": [
    "sns.violinplot(data=train, x='Rooms', y='Sale Price');"
   ]
  },
  {
   "cell_type": "code",
   "execution_count": 27,
   "metadata": {},
   "outputs": [
    {
     "data": {
      "image/png": "[encoded data removed]",
      "text/plain": [
       "<Figure size 432x288 with 1 Axes>"
      ]
     },
     "metadata": {
      "needs_background": "light"
     },
     "output_type": "display_data"
    }
   ],
   "source": [
    "sns.violinplot(data=train, x='Basement Finish', y='Sale Price');"
   ]
  },
  {
   "cell_type": "code",
   "execution_count": 28,
   "metadata": {},
   "outputs": [
    {
     "data": {
      "text/plain": [
       "3.0    9571\n",
       "1.0    4862\n",
       "2.0     116\n",
       "0.0       1\n",
       "Name: Basement Finish, dtype: int64"
      ]
     },
     "execution_count": 28,
     "metadata": {},
     "output_type": "execute_result"
    }
   ],
   "source": [
    "train['Basement Finish'].value_counts()"
   ]
  },
  {
   "cell_type": "code",
   "execution_count": 29,
   "metadata": {},
   "outputs": [],
   "source": [
    "def select_columns(data, *columns):\n",
    "    \"\"\"Select only columns passed as arguments.\"\"\"\n",
    "    return data.loc[:, columns]\n",
    "\n",
    "def process_data_gm(data):\n",
    "    \"\"\"Process the data for a guided model.\"\"\"\n",
    "    \n",
    "    # Transform Data, Select Features\n",
    "    data = select_columns(data, \n",
    "                          'Sale Price', \n",
    "                          'Land Square Feet',\n",
    "                          'Prior Tax Year Market Value Estimate (Land)',\n",
    "                          'Prior Tax Year Market Value Estimate (Building)',\n",
    "                          'Full Baths',\n",
    "                          'Building Square Feet',\n",
    "                          'Rooms',\n",
    "                          'Fireplaces',\n",
    "                          'Garage 1 Size',\n",
    "                          'Repair Condition'\n",
    "                          \n",
    "                          \n",
    "                         )\n",
    "    \n",
    "    # Return predictors and response variables separately\n",
    "    X = data.drop(['Sale Price'], axis = 1)\n",
    "    y = data.loc[:, 'Sale Price']\n",
    "    \n",
    "    return X, y"
   ]
  },
  {
   "cell_type": "code",
   "execution_count": 30,
   "metadata": {},
   "outputs": [],
   "source": [
    "X_train, y_train = process_data_gm(train)\n",
    "X_test, y_test = process_data_gm(test)"
   ]
  },
  {
   "cell_type": "code",
   "execution_count": 31,
   "metadata": {},
   "outputs": [],
   "source": [
    "# X_train = train['Land Square Feet']\n",
    "# Y_train = train['Sale Price']\n",
    "# X_test = test['Land Square Feet']\n",
    "# Y_test = test['Sale Price']"
   ]
  },
  {
   "cell_type": "code",
   "execution_count": null,
   "metadata": {},
   "outputs": [],
   "source": []
  },
  {
   "cell_type": "code",
   "execution_count": null,
   "metadata": {},
   "outputs": [],
   "source": []
  },
  {
   "cell_type": "code",
   "execution_count": 32,
   "metadata": {},
   "outputs": [],
   "source": [
    "from sklearn import linear_model as lm\n",
    "\n",
    "linear_model = lm.LinearRegression(fit_intercept=True)"
   ]
  },
  {
   "cell_type": "code",
   "execution_count": 33,
   "metadata": {},
   "outputs": [
    {
     "data": {
      "text/plain": [
       "14550"
      ]
     },
     "execution_count": 33,
     "metadata": {},
     "output_type": "execute_result"
    }
   ],
   "source": [
    "len(X_train)"
   ]
  },
  {
   "cell_type": "code",
   "execution_count": 34,
   "metadata": {},
   "outputs": [],
   "source": [
    "linear_model.fit(X_train, y_train)\n",
    "y_fitted = linear_model.predict(X_train)\n",
    "y_predicted = linear_model.predict(X_test)"
   ]
  },
  {
   "cell_type": "code",
   "execution_count": 35,
   "metadata": {},
   "outputs": [],
   "source": [
    "def rmse(actual, predicted):\n",
    "    \"\"\"\n",
    "    Calculates RMSE from actual and predicted values\n",
    "    Input:\n",
    "      actual (1D array): vector of actual values\n",
    "      predicted (1D array): vector of predicted/fitted values\n",
    "    Output:\n",
    "      a float, the root-mean square error\n",
    "    \"\"\"\n",
    "    return np.sqrt(np.mean((actual - predicted)**2))"
   ]
  },
  {
   "cell_type": "code",
   "execution_count": 36,
   "metadata": {},
   "outputs": [
    {
     "data": {
      "text/plain": [
       "(191630.88227662188, 180020.83688834053)"
      ]
     },
     "execution_count": 36,
     "metadata": {},
     "output_type": "execute_result"
    }
   ],
   "source": [
    "training_error = rmse(y_fitted, y_train) # SOLUTION\n",
    "test_error = rmse(y_predicted, y_test) # SOLUTION\n",
    "(training_error, test_error)"
   ]
  },
  {
   "cell_type": "code",
   "execution_count": 37,
   "metadata": {},
   "outputs": [
    {
     "data": {
      "image/png": "[encoded data removed]",
      "text/plain": [
       "<Figure size 432x288 with 1 Axes>"
      ]
     },
     "metadata": {
      "needs_background": "light"
     },
     "output_type": "display_data"
    }
   ],
   "source": [
    "residuals = y_test - y_predicted\n",
    "ax = sns.regplot(y_test, residuals)\n",
    "ax.set_xlabel('Sale Price (Test Data)')\n",
    "ax.set_ylabel('Residuals (Actual Price - Predicted Price)')\n",
    "ax.set_title(\"Residuals vs. Sale Price on Test Data\");"
   ]
  },
  {
   "cell_type": "code",
   "execution_count": null,
   "metadata": {},
   "outputs": [],
   "source": []
  },
  {
   "cell_type": "code",
   "execution_count": null,
   "metadata": {},
   "outputs": [],
   "source": []
  },
  {
   "cell_type": "code",
   "execution_count": null,
   "metadata": {},
   "outputs": [],
   "source": []
  },
  {
   "cell_type": "code",
   "execution_count": null,
   "metadata": {},
   "outputs": [],
   "source": []
  }
 ],
 "metadata": {
  "kernelspec": {
   "display_name": "Python 3",
   "language": "python",
   "name": "python3"
  },
  "language_info": {
   "codemirror_mode": {
    "name": "ipython",
    "version": 3
   },
   "file_extension": ".py",
   "mimetype": "text/x-python",
   "name": "python",
   "nbconvert_exporter": "python",
   "pygments_lexer": "ipython3",
   "version": "3.6.7"
  }
 },
 "nbformat": 4,
 "nbformat_minor": 2
}
